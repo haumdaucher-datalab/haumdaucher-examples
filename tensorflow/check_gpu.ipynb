{
 "cells": [
  {
   "cell_type": "markdown",
   "id": "807c25e1-3202-4556-8d29-cd86dc5ff047",
   "metadata": {},
   "source": [
    "# Boilerplate\n",
    "\n",
    "Imports."
   ]
  },
  {
   "cell_type": "code",
   "execution_count": 5,
   "id": "1a6c5f64-e82c-47b3-b227-1bff6f1e68b1",
   "metadata": {},
   "outputs": [],
   "source": [
    "from typing import NamedTuple\n",
    "\n",
    "import kfp\n",
    "import kfp.components as comp\n",
    "from kfp.components import InputPath, OutputPath, load_component_from_file, load_component_from_url\n",
    "from kfp.components import func_to_container_op\n",
    "import kfp.dsl as dsl\n",
    "from kfp.compiler import compiler\n",
    "from pathlib import Path\n",
    "\n",
    "from kubernetes.client import V1Toleration\n",
    "import kubernetes as k8s"
   ]
  },
  {
   "cell_type": "code",
   "execution_count": 6,
   "id": "f5e1db6e-9a83-4d1d-942b-c03fb227c039",
   "metadata": {},
   "outputs": [],
   "source": [
    "# Model from https://www.tensorflow.org/guide/keras/sequential_model\n",
    "\n"
   ]
  },
  {
   "cell_type": "code",
   "execution_count": 7,
   "id": "7c03eac7-95de-4845-bfbd-1076270531a2",
   "metadata": {},
   "outputs": [
    {
     "name": "stdout",
     "output_type": "stream",
     "text": [
      "Num GPUs Available:  0\n"
     ]
    }
   ],
   "source": [
    "import tensorflow as tf\n",
    "print(\"Num GPUs Available: \", len(tf.config.list_physical_devices('GPU')))"
   ]
  },
  {
   "cell_type": "code",
   "execution_count": 8,
   "id": "1f12afbd-9734-4b4e-a172-bfda064ad41f",
   "metadata": {},
   "outputs": [],
   "source": [
    "def check_gpu():\n",
    "    import tensorflow as tf\n",
    "    print(\"Num GPUs Available: \", len(tf.config.list_physical_devices('GPU')))"
   ]
  },
  {
   "cell_type": "code",
   "execution_count": 9,
   "id": "fa7fe800-6adb-4f53-9b94-f595e72254cc",
   "metadata": {},
   "outputs": [],
   "source": [
    "@dsl.pipeline(\n",
    "    name = \"Check GPU for jetson\",\n",
    "    description = \"Counting number on GPU and should show 1 on the Jetson Nano\"\n",
    ")\n",
    "def vaccination_pipeline():\n",
    "    #volume = kfp.dsl.PipelineVolume(name='shm-vol', empty_dir={'medium': 'Memory'})\n",
    "    \n",
    "    step = comp.create_component_from_func(\n",
    "        check_gpu,\n",
    "        base_image=\"nvcr.io/nvidia/l4t-tensorflow:r32.5.0-tf2.3-py3\")()\n",
    "    step.add_toleration(V1Toleration(effect='NoSchedule',key='nvidia.com/gpu'))\n",
    "    step.add_node_selector_constraint('nvidia.com/gpu','true')\n",
    "    #step.add_pvolumes({'/dev/shm': volume})\n",
    "\n",
    "kfp_client = kfp.Client()\n",
    "kfp.compiler.Compiler().compile(vaccination_pipeline,package_path=\"check_gpu.tar.gz\")"
   ]
  },
  {
   "cell_type": "code",
   "execution_count": null,
   "id": "60d83827-d2ad-4101-85e3-7c269b6becf0",
   "metadata": {},
   "outputs": [],
   "source": []
  }
 ],
 "metadata": {
  "kernelspec": {
   "display_name": "Python 3",
   "language": "python",
   "name": "python3"
  },
  "language_info": {
   "codemirror_mode": {
    "name": "ipython",
    "version": 3
   },
   "file_extension": ".py",
   "mimetype": "text/x-python",
   "name": "python",
   "nbconvert_exporter": "python",
   "pygments_lexer": "ipython3",
   "version": "3.8.8"
  }
 },
 "nbformat": 4,
 "nbformat_minor": 5
}
