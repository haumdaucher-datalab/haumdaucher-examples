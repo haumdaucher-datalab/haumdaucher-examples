{
 "cells": [
  {
   "cell_type": "markdown",
   "id": "f556065e-ca3c-4926-840f-aa8aa1575113",
   "metadata": {},
   "source": [
    "# Boilerplate"
   ]
  },
  {
   "cell_type": "code",
   "execution_count": 67,
   "id": "30c3945e-d62c-4a4f-90eb-17e086f2b014",
   "metadata": {},
   "outputs": [],
   "source": [
    "from typing import NamedTuple\n",
    "\n",
    "import kfp\n",
    "import kfp.components as comp\n",
    "from kfp.components import InputPath, OutputPath, load_component_from_file, load_component_from_url\n",
    "from kfp.components import func_to_container_op\n",
    "import kfp.dsl as dsl\n",
    "from kfp.compiler import compiler\n",
    "from pathlib import Path\n",
    "\n",
    "from kubernetes.client import V1Toleration\n",
    "import kubernetes as k8s"
   ]
  },
  {
   "cell_type": "markdown",
   "id": "524cb1a4-110e-4cba-a4a1-66489235f00a",
   "metadata": {},
   "source": [
    "# First model on jetson\n",
    "\n",
    "First lines of fastbook. Modifications:\n",
    "\n",
    "* No `import *`. In KFP we need everything in one function, so everything has to be named explicitly.\n",
    "* Setup functions are called as part of this fucntion.\n"
   ]
  },
  {
   "cell_type": "code",
   "execution_count": 68,
   "id": "83467c08-d0ff-407c-997e-7b349d1de6c7",
   "metadata": {},
   "outputs": [],
   "source": [
    "def train_first_model():\n",
    "    import fastbook\n",
    "    fastbook.setup_book()\n",
    "    \n",
    "    #from fastbook import *\n",
    "    \n",
    "    from fastai.vision.all import cnn_learner,ImageDataLoaders, untar_data\n",
    "    from fastai.vision.all import URLs,get_image_files,Resize,resnet34,error_rate\n",
    "    path = untar_data(URLs.PETS)/'images'\n",
    "\n",
    "    def is_cat(x): return x[0].isupper()\n",
    "    dls = ImageDataLoaders.from_name_func(\n",
    "        path, get_image_files(path), valid_pct=0.2, seed=42,\n",
    "        label_func=is_cat, item_tfms=Resize(224))\n",
    "\n",
    "    learn = cnn_learner(dls, resnet34, metrics=error_rate)\n",
    "    learn.fine_tune(1)"
   ]
  },
  {
   "cell_type": "markdown",
   "id": "cb616134-9735-4582-9bbc-821c131af9c9",
   "metadata": {},
   "source": [
    "Specialities executed during this pipeline:\n",
    "\n",
    "* Shared memory is a problem on the jetson. It was not possible to fix this with default values from host side, so a separate shm has been mounted using KFP.\n",
    "* Toleration and node selector select the right node in the cluster.\n",
    "* **NPT WORKING** - Container gets killed due to insufficient memory"
   ]
  },
  {
   "cell_type": "code",
   "execution_count": 69,
   "id": "ddc21a8d-2b56-425b-80a2-e28b9fe9ba0b",
   "metadata": {},
   "outputs": [],
   "source": [
    "@dsl.pipeline(\n",
    "    name = \"First fastai model\",\n",
    "    description = \"Calculatin the daily stuff as a pipeline\"\n",
    ")\n",
    "def vaccination_pipeline():\n",
    "    #vop = dsl.VolumeOp(\n",
    "    #    name=\"volume_creation\",\n",
    "    #    resource_name=\"mypvc\",\n",
    "    #    size=\"1Gi\"\n",
    "    #)\n",
    "    volume = kfp.dsl.PipelineVolume(name='shm-vol', empty_dir={'medium': 'Memory'})\n",
    "    #volume = dsl.PipelineVolume(volume=k8s.client.V1Volume(\n",
    "    #    name=f\"test-storage\",\n",
    "    #    empty_dir=k8s.client.V1EmptyDirVolumeSource()))\n",
    "    \n",
    "    step = comp.create_component_from_func(\n",
    "        train_first_model,\n",
    "        base_image=\"haumdaucherdatalab/l4t-fastbook:latest\")()\n",
    "    step.add_toleration(V1Toleration(effect='NoSchedule',key='nvidia.com/gpu'))\n",
    "    step.add_node_selector_constraint('nvidia.com/gpu','true')\n",
    "    step.add_pvolumes({'/dev/shm': volume})\n",
    "\n",
    "kfp_client = kfp.Client()\n",
    "kfp.compiler.Compiler().compile(vaccination_pipeline,package_path=\"fastbook_01.tar.gz\")"
   ]
  },
  {
   "cell_type": "code",
   "execution_count": null,
   "id": "3a59914a-103e-44fd-97ab-11d63b85a5de",
   "metadata": {},
   "outputs": [],
   "source": []
  },
  {
   "cell_type": "code",
   "execution_count": null,
   "id": "76f999ef-2b8d-4569-a0ef-76307dceb563",
   "metadata": {},
   "outputs": [],
   "source": []
  }
 ],
 "metadata": {
  "kernelspec": {
   "display_name": "Python 3",
   "language": "python",
   "name": "python3"
  },
  "language_info": {
   "codemirror_mode": {
    "name": "ipython",
    "version": 3
   },
   "file_extension": ".py",
   "mimetype": "text/x-python",
   "name": "python",
   "nbconvert_exporter": "python",
   "pygments_lexer": "ipython3",
   "version": "3.8.8"
  }
 },
 "nbformat": 4,
 "nbformat_minor": 5
}
